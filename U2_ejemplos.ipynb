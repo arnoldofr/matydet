{
  "nbformat": 4,
  "nbformat_minor": 0,
  "metadata": {
    "colab": {
      "name": "U2 ejemplos.ipynb",
      "provenance": [],
      "authorship_tag": "ABX9TyOR42ISpw3YIfQ276Urhdfj",
      "include_colab_link": true
    },
    "kernelspec": {
      "name": "python3",
      "display_name": "Python 3"
    },
    "language_info": {
      "name": "python"
    }
  },
  "cells": [
    {
      "cell_type": "markdown",
      "metadata": {
        "id": "view-in-github",
        "colab_type": "text"
      },
      "source": [
        "<a href=\"https://colab.research.google.com/github/arnoldofr/matydet/blob/main/U2_ejemplos.ipynb\" target=\"_parent\"><img src=\"https://colab.research.google.com/assets/colab-badge.svg\" alt=\"Open In Colab\"/></a>"
      ]
    },
    {
      "cell_type": "code",
      "metadata": {
        "id": "TgdZDXMVy0zU"
      },
      "source": [
        "import numpy as np"
      ],
      "execution_count": null,
      "outputs": []
    },
    {
      "cell_type": "code",
      "metadata": {
        "id": "FoU008I7zJQj",
        "colab": {
          "base_uri": "https://localhost:8080/"
        },
        "outputId": "d331443c-af1b-4030-ec1d-20a982805557"
      },
      "source": [
        "A=np.matrix([[2, 4],[1,3]])\n",
        "A"
      ],
      "execution_count": null,
      "outputs": [
        {
          "output_type": "execute_result",
          "data": {
            "text/plain": [
              "matrix([[2, 4],\n",
              "        [1, 3]])"
            ]
          },
          "metadata": {
            "tags": []
          },
          "execution_count": 2
        }
      ]
    },
    {
      "cell_type": "code",
      "metadata": {
        "id": "A6PzjD3Xzumf",
        "colab": {
          "base_uri": "https://localhost:8080/"
        },
        "outputId": "575d2d0e-5f38-4737-da94-9ba3ddf6b067"
      },
      "source": [
        " B=np.matrix([[0,1],[2,3]])\n",
        "B"
      ],
      "execution_count": null,
      "outputs": [
        {
          "output_type": "execute_result",
          "data": {
            "text/plain": [
              "matrix([[0, 1],\n",
              "        [2, 3]])"
            ]
          },
          "metadata": {
            "tags": []
          },
          "execution_count": 3
        }
      ]
    },
    {
      "cell_type": "code",
      "metadata": {
        "id": "c5yei0M_zB45",
        "colab": {
          "base_uri": "https://localhost:8080/"
        },
        "outputId": "7a879d01-b296-45e4-a17e-e9203485a5ce"
      },
      "source": [
        "'Suma de matrices'\n",
        "C=A+B\n",
        "C"
      ],
      "execution_count": null,
      "outputs": [
        {
          "output_type": "execute_result",
          "data": {
            "text/plain": [
              "matrix([[2, 5],\n",
              "        [3, 6]])"
            ]
          },
          "metadata": {
            "tags": []
          },
          "execution_count": 4
        }
      ]
    },
    {
      "cell_type": "code",
      "metadata": {
        "id": "iH5D5T9-z-Sw",
        "colab": {
          "base_uri": "https://localhost:8080/"
        },
        "outputId": "f7c76d58-a318-4a0f-c552-07c9c4a1c963"
      },
      "source": [
        "'Multiplicacion de escalar por una matriz'\n",
        "A=np.matrix([[1, -3],[3,1]])\n",
        "A"
      ],
      "execution_count": null,
      "outputs": [
        {
          "output_type": "execute_result",
          "data": {
            "text/plain": [
              "matrix([[ 1, -3],\n",
              "        [ 3,  1]])"
            ]
          },
          "metadata": {
            "tags": []
          },
          "execution_count": 5
        }
      ]
    },
    {
      "cell_type": "code",
      "metadata": {
        "id": "90P3o8vT0jH6",
        "colab": {
          "base_uri": "https://localhost:8080/"
        },
        "outputId": "0492b759-505a-4dfc-c76a-03739decc739"
      },
      "source": [
        "'Escalar' \n",
        "a=2\n",
        "a"
      ],
      "execution_count": null,
      "outputs": [
        {
          "output_type": "execute_result",
          "data": {
            "text/plain": [
              "2"
            ]
          },
          "metadata": {
            "tags": []
          },
          "execution_count": 6
        }
      ]
    },
    {
      "cell_type": "code",
      "metadata": {
        "id": "CkQKmw4M0qsh",
        "colab": {
          "base_uri": "https://localhost:8080/"
        },
        "outputId": "f69f731c-cab6-4677-cae3-15d65e9e1bd2"
      },
      "source": [
        "C=a*A\n",
        "C"
      ],
      "execution_count": null,
      "outputs": [
        {
          "output_type": "execute_result",
          "data": {
            "text/plain": [
              "matrix([[ 2, -6],\n",
              "        [ 6,  2]])"
            ]
          },
          "metadata": {
            "tags": []
          },
          "execution_count": 7
        }
      ]
    },
    {
      "cell_type": "code",
      "metadata": {
        "id": "AWd5wFUx0-pl",
        "colab": {
          "base_uri": "https://localhost:8080/"
        },
        "outputId": "890eca22-caed-4a02-863d-e17c3d8be73e"
      },
      "source": [
        "'Vector demanda por vector precio'\n",
        "d=np.matrix([[30, 20, 40, 10]])\n",
        "d"
      ],
      "execution_count": null,
      "outputs": [
        {
          "output_type": "execute_result",
          "data": {
            "text/plain": [
              "matrix([[30, 20, 40, 10]])"
            ]
          },
          "metadata": {
            "tags": []
          },
          "execution_count": 9
        }
      ]
    },
    {
      "cell_type": "code",
      "metadata": {
        "id": "mAz9TFNq1uGq",
        "colab": {
          "base_uri": "https://localhost:8080/"
        },
        "outputId": "d8d4d6c4-2074-4ece-9f22-a891b2f2633c"
      },
      "source": [
        " p=np.matrix([[20], [15], [18], [40]])\n",
        "p"
      ],
      "execution_count": null,
      "outputs": [
        {
          "output_type": "execute_result",
          "data": {
            "text/plain": [
              "matrix([[20],\n",
              "        [15],\n",
              "        [18],\n",
              "        [40]])"
            ]
          },
          "metadata": {
            "tags": []
          },
          "execution_count": 10
        }
      ]
    },
    {
      "cell_type": "code",
      "metadata": {
        "id": "leD8VI6o12T3",
        "colab": {
          "base_uri": "https://localhost:8080/"
        },
        "outputId": "4754aa11-d1b4-4e45-851d-05911e8b1881"
      },
      "source": [
        "'Venta = producto escalar de d y p'\n",
        "V=d.dot(p)\n",
        "V"
      ],
      "execution_count": null,
      "outputs": [
        {
          "output_type": "execute_result",
          "data": {
            "text/plain": [
              "matrix([[2020]])"
            ]
          },
          "metadata": {
            "tags": []
          },
          "execution_count": 11
        }
      ]
    },
    {
      "cell_type": "code",
      "metadata": {
        "id": "mChfFZ0p2rqP",
        "colab": {
          "base_uri": "https://localhost:8080/"
        },
        "outputId": "da5ae1f3-e28f-4892-cfed-474b3d7a0ae2"
      },
      "source": [
        "'Multiplicacion de matrices'\n",
        "A=np.matrix([[1, 3],[-2,4]])\n",
        "A"
      ],
      "execution_count": null,
      "outputs": [
        {
          "output_type": "execute_result",
          "data": {
            "text/plain": [
              "matrix([[ 1,  3],\n",
              "        [-2,  4]])"
            ]
          },
          "metadata": {
            "tags": []
          },
          "execution_count": 12
        }
      ]
    },
    {
      "cell_type": "code",
      "metadata": {
        "id": "zqG8nlrQ25Yd",
        "colab": {
          "base_uri": "https://localhost:8080/"
        },
        "outputId": "e24b3293-4529-498f-818b-e7a244c5b0ee"
      },
      "source": [
        " B=np.matrix([[3, -2],[5,6]])\n",
        "B"
      ],
      "execution_count": null,
      "outputs": [
        {
          "output_type": "execute_result",
          "data": {
            "text/plain": [
              "matrix([[ 3, -2],\n",
              "        [ 5,  6]])"
            ]
          },
          "metadata": {
            "tags": []
          },
          "execution_count": 13
        }
      ]
    },
    {
      "cell_type": "code",
      "metadata": {
        "id": "h5IWlfXi3CsD",
        "colab": {
          "base_uri": "https://localhost:8080/"
        },
        "outputId": "3c803228-1cd2-4738-b554-298a68a60844"
      },
      "source": [
        "C=A.dot(B)\n",
        "C"
      ],
      "execution_count": null,
      "outputs": [
        {
          "output_type": "execute_result",
          "data": {
            "text/plain": [
              "matrix([[18, 16],\n",
              "        [14, 28]])"
            ]
          },
          "metadata": {
            "tags": []
          },
          "execution_count": 14
        }
      ]
    },
    {
      "cell_type": "code",
      "metadata": {
        "id": "pevLypEu3S1v",
        "colab": {
          "base_uri": "https://localhost:8080/"
        },
        "outputId": "63c34b37-8df1-4513-e01d-5be50a242894"
      },
      "source": [
        "D=B.dot(A)\n",
        "D"
      ],
      "execution_count": null,
      "outputs": [
        {
          "output_type": "execute_result",
          "data": {
            "text/plain": [
              "matrix([[ 7,  1],\n",
              "        [-7, 39]])"
            ]
          },
          "metadata": {
            "tags": []
          },
          "execution_count": 15
        }
      ]
    },
    {
      "cell_type": "code",
      "metadata": {
        "id": "G_TTxY1r5YBS",
        "colab": {
          "base_uri": "https://localhost:8080/"
        },
        "outputId": "bf3beed9-c143-4675-dfc1-363a27206c00"
      },
      "source": [
        "'Transformaciones elementales por renglon'\n",
        "A=np.matrix([[1, 2],[2,3]])\n",
        "A"
      ],
      "execution_count": null,
      "outputs": [
        {
          "output_type": "execute_result",
          "data": {
            "text/plain": [
              "matrix([[1, 2],\n",
              "        [2, 3]])"
            ]
          },
          "metadata": {
            "tags": []
          },
          "execution_count": 17
        }
      ]
    },
    {
      "cell_type": "code",
      "metadata": {
        "id": "q5NKFWaS508J",
        "colab": {
          "base_uri": "https://localhost:8080/"
        },
        "outputId": "ec9e7909-3e4c-4864-ef82-7394338edd93"
      },
      "source": [
        " b=np.matrix([[2],[6]])\n",
        "b"
      ],
      "execution_count": null,
      "outputs": [
        {
          "output_type": "execute_result",
          "data": {
            "text/plain": [
              "matrix([[2],\n",
              "        [6]])"
            ]
          },
          "metadata": {
            "tags": []
          },
          "execution_count": 18
        }
      ]
    },
    {
      "cell_type": "code",
      "metadata": {
        "id": "Qi0G-rAK5_WX",
        "colab": {
          "base_uri": "https://localhost:8080/"
        },
        "outputId": "03b6f8d5-e35a-470e-d368-98516f12fe82"
      },
      "source": [
        "'Solucion'\n",
        "C=np.linalg.solve(A,b)\n",
        "C"
      ],
      "execution_count": null,
      "outputs": [
        {
          "output_type": "execute_result",
          "data": {
            "text/plain": [
              "matrix([[ 6.],\n",
              "        [-2.]])"
            ]
          },
          "metadata": {
            "tags": []
          },
          "execution_count": 19
        }
      ]
    },
    {
      "cell_type": "code",
      "metadata": {
        "id": "cJf4gr8E7NuJ",
        "colab": {
          "base_uri": "https://localhost:8080/"
        },
        "outputId": "dd8618fd-5060-4ca4-cca0-8d0084510ba1"
      },
      "source": [
        "'Rango de A'\n",
        "D=np.linalg.matrix_rank(A)\n",
        "D"
      ],
      "execution_count": null,
      "outputs": [
        {
          "output_type": "execute_result",
          "data": {
            "text/plain": [
              "2"
            ]
          },
          "metadata": {
            "tags": []
          },
          "execution_count": 20
        }
      ]
    },
    {
      "cell_type": "code",
      "metadata": {
        "id": "Ctpt2QRM70Ap",
        "colab": {
          "base_uri": "https://localhost:8080/"
        },
        "outputId": "5f3fc23f-65b0-4ab1-e857-e70af938d016"
      },
      "source": [
        "A=np.matrix([[1, 2],[2,4]])\n",
        "A"
      ],
      "execution_count": null,
      "outputs": [
        {
          "output_type": "execute_result",
          "data": {
            "text/plain": [
              "matrix([[1, 2],\n",
              "        [2, 4]])"
            ]
          },
          "metadata": {
            "tags": []
          },
          "execution_count": 21
        }
      ]
    },
    {
      "cell_type": "code",
      "metadata": {
        "id": "b1q440rN8GLC",
        "colab": {
          "base_uri": "https://localhost:8080/"
        },
        "outputId": "ce53a0ba-7305-4ddb-d147-cfa65d580361"
      },
      "source": [
        " 'Rango de A'\n",
        "D=np.linalg.matrix_rank(A)\n",
        "D"
      ],
      "execution_count": null,
      "outputs": [
        {
          "output_type": "execute_result",
          "data": {
            "text/plain": [
              "1"
            ]
          },
          "metadata": {
            "tags": []
          },
          "execution_count": 22
        }
      ]
    },
    {
      "cell_type": "code",
      "metadata": {
        "id": "LL-tIA138TuG",
        "colab": {
          "base_uri": "https://localhost:8080/"
        },
        "outputId": "579d1e8e-237a-4617-bbb0-cab7e49129e2"
      },
      "source": [
        "'Calculo de la inversa'\n",
        "A=np.matrix([[1, 2],[2,3]])\n",
        "A"
      ],
      "execution_count": null,
      "outputs": [
        {
          "output_type": "execute_result",
          "data": {
            "text/plain": [
              "matrix([[1, 2],\n",
              "        [2, 3]])"
            ]
          },
          "metadata": {
            "tags": []
          },
          "execution_count": 23
        }
      ]
    },
    {
      "cell_type": "code",
      "metadata": {
        "id": "bvgUKWzn8fOo",
        "colab": {
          "base_uri": "https://localhost:8080/"
        },
        "outputId": "87a89119-0c61-47ee-d652-28e2bb46110e"
      },
      "source": [
        "Ainv=np.linalg.inv(A)\n",
        "Ainv"
      ],
      "execution_count": null,
      "outputs": [
        {
          "output_type": "execute_result",
          "data": {
            "text/plain": [
              "matrix([[-3.,  2.],\n",
              "        [ 2., -1.]])"
            ]
          },
          "metadata": {
            "tags": []
          },
          "execution_count": 24
        }
      ]
    },
    {
      "cell_type": "code",
      "metadata": {
        "id": "a6IndlgI8zq0",
        "colab": {
          "base_uri": "https://localhost:8080/"
        },
        "outputId": "47ffbdda-8709-44b0-ddd1-7153016984e5"
      },
      "source": [
        "'Determinante'\n",
        "A=np.matrix([[2, 1],[4,3]])\n",
        "A"
      ],
      "execution_count": null,
      "outputs": [
        {
          "output_type": "execute_result",
          "data": {
            "text/plain": [
              "matrix([[2, 1],\n",
              "        [4, 3]])"
            ]
          },
          "metadata": {
            "tags": []
          },
          "execution_count": 25
        }
      ]
    },
    {
      "cell_type": "code",
      "metadata": {
        "id": "kGE40tg29BQ9",
        "colab": {
          "base_uri": "https://localhost:8080/"
        },
        "outputId": "ad4e453c-7f5e-465a-c7e4-8eac399ceb49"
      },
      "source": [
        "DetA=np.linalg.det(A)\n",
        "DetA"
      ],
      "execution_count": null,
      "outputs": [
        {
          "output_type": "execute_result",
          "data": {
            "text/plain": [
              "2.0"
            ]
          },
          "metadata": {
            "tags": []
          },
          "execution_count": 26
        }
      ]
    },
    {
      "cell_type": "code",
      "metadata": {
        "id": "fJr-nMG39RZj"
      },
      "source": [
        " B=np.matrix([[1,2,3],[5,7,8],[4,3,2]])\n",
        "B"
      ],
      "execution_count": null,
      "outputs": []
    },
    {
      "cell_type": "code",
      "metadata": {
        "id": "a41JZJRm9foS"
      },
      "source": [
        " DetB=np.linalg.det(B)\n",
        "DetB"
      ],
      "execution_count": null,
      "outputs": []
    },
    {
      "cell_type": "code",
      "metadata": {
        "id": "iw4NqhVtOIEP"
      },
      "source": [
        "C=np.matrix([[5,7,8],[4,4,2],[1,2,3]])\n",
        "C"
      ],
      "execution_count": null,
      "outputs": []
    },
    {
      "cell_type": "code",
      "metadata": {
        "id": "bqoPj8W0Ozgb"
      },
      "source": [
        "DetC=np.linalg.det(C)\n",
        "DetC"
      ],
      "execution_count": null,
      "outputs": []
    },
    {
      "cell_type": "code",
      "metadata": {
        "id": "TqXakgn8URJ_"
      },
      "source": [
        " DetBC=np.linalg.det(B.dot(C))\n",
        "DetBC"
      ],
      "execution_count": null,
      "outputs": []
    },
    {
      "cell_type": "code",
      "metadata": {
        "id": "wDXiwsPr2Nbo"
      },
      "source": [
        ""
      ],
      "execution_count": null,
      "outputs": []
    },
    {
      "cell_type": "markdown",
      "metadata": {
        "id": "N-9kkzeRRLJA"
      },
      "source": [
        "# Sección nueva"
      ]
    },
    {
      "cell_type": "code",
      "metadata": {
        "id": "OlA42KsXPqiN"
      },
      "source": [
        "DetBC=np.linalg.det(B.dot(C))\n",
        "DetBC"
      ],
      "execution_count": null,
      "outputs": []
    },
    {
      "cell_type": "code",
      "metadata": {
        "id": "YhPhB0DKKxU2"
      },
      "source": [
        "%%html\n",
        "<marquee><b>DetB</b></marquee>"
      ],
      "execution_count": null,
      "outputs": []
    },
    {
      "cell_type": "code",
      "metadata": {
        "id": "0HtsahiGKvhS"
      },
      "source": [
        ""
      ],
      "execution_count": null,
      "outputs": []
    },
    {
      "cell_type": "code",
      "metadata": {
        "id": "JvOpjjJxKwfa"
      },
      "source": [
        ""
      ],
      "execution_count": null,
      "outputs": []
    }
  ]
}